{
 "cells": [
  {
   "cell_type": "code",
   "execution_count": 12,
   "metadata": {},
   "outputs": [],
   "source": [
    "import numpy as np\n",
    "from hmmlearn import hmm\n",
    "import pandas as pd\n",
    "import matplotlib.pyplot as plt\n",
    "import seaborn as sns\n",
    "\n",
    "np.random.seed(42)\n"
   ]
  },
  {
   "cell_type": "code",
   "execution_count": 13,
   "metadata": {},
   "outputs": [],
   "source": [
    "#read chord\n",
    "chord = pd.read_csv('transition__chord_matrix/csv_file/all_chord.csv')\n",
    "chord_list = chord['chord'].unique()\n",
    "chord_list.sort()\n",
    "chord_list = list(chord_list[:len(chord_list)-2])\n",
    "        \n",
    "pitch_names = ['C', 'C#', 'D', 'D#', 'E', 'F', 'F#', 'G', 'G#', 'A', 'A#', 'B']"
   ]
  },
  {
   "cell_type": "code",
   "execution_count": 14,
   "metadata": {},
   "outputs": [
    {
     "data": {
      "text/plain": [
       "array([[0.017991  , 0.        , 0.07186407, ..., 0.        , 0.        ,\n",
       "        0.005997  ],\n",
       "       [0.        , 0.1282513 , 0.        , ..., 0.        , 0.        ,\n",
       "        0.        ],\n",
       "       [0.00430172, 0.        , 0.10734294, ..., 0.        , 0.00190076,\n",
       "        0.        ],\n",
       "       ...,\n",
       "       [0.        , 0.        , 0.01220732, ..., 0.06603962, 0.02931759,\n",
       "        0.03422053],\n",
       "       [0.02940588, 0.        , 0.01830366, ..., 0.02570514, 0.06421284,\n",
       "        0.0495099 ],\n",
       "       [0.        , 0.        , 0.        , ..., 0.02589223, 0.05618315,\n",
       "        0.07337799]])"
      ]
     },
     "execution_count": 14,
     "metadata": {},
     "output_type": "execute_result"
    }
   ],
   "source": [
    "#read transition matrix\n",
    "transition_matrix = pd.read_csv('transition__chord_matrix/csv_file/transition_chord.csv')\n",
    "\n",
    "#convert transition matrix to numpy array\n",
    "transition_matrix.drop('Unnamed: 0', axis=1, inplace=True)\n",
    "transition_matrix = transition_matrix.replace('%','',regex=True).astype('float')\n",
    "transition_matrix = transition_matrix.div(transition_matrix.sum(axis=1), axis=0)\n",
    "\n",
    "\n",
    "\n",
    "transition_matrix = transition_matrix.to_numpy()\n",
    "\n",
    "\n",
    "transition_matrix"
   ]
  },
  {
   "cell_type": "code",
   "execution_count": 15,
   "metadata": {},
   "outputs": [
    {
     "data": {
      "text/plain": [
       "array([[0.01289742, 0.0644871 , 0.32253549, ..., 0.13547291, 0.        ,\n",
       "        0.04519096],\n",
       "       [0.23084617, 0.02560512, 0.15383077, ..., 0.        , 0.02560512,\n",
       "        0.02560512],\n",
       "       [0.0101    , 0.086     , 0.1138    , ..., 0.127     , 0.004     ,\n",
       "        0.1741    ],\n",
       "       ...,\n",
       "       [0.1554    , 0.        , 0.1779    , ..., 0.0576    , 0.1905    ,\n",
       "        0.        ],\n",
       "       [0.09349065, 0.00569943, 0.17278272, ..., 0.16428357, 0.0509949 ,\n",
       "        0.14448555],\n",
       "       [0.24487346, 0.01030309, 0.21036311, ..., 0.07242173, 0.01720516,\n",
       "        0.0310093 ]])"
      ]
     },
     "execution_count": 15,
     "metadata": {},
     "output_type": "execute_result"
    }
   ],
   "source": [
    "#create emission matrix\n",
    "\n",
    "emission_matrix = pd.read_csv('transition_melody_matrix/csv_file/all_pitch_sorted.csv')\n",
    "\n",
    "#convert  to numpy array\n",
    "emission_matrix = emission_matrix.set_index('Unnamed: 0')\n",
    "\n",
    "emission_matrix = emission_matrix.div(emission_matrix.sum(axis=1), axis=0)\n",
    "emission_matrix = emission_matrix.to_numpy()\n",
    "\n",
    "emission_matrix"
   ]
  },
  {
   "cell_type": "code",
   "execution_count": 16,
   "metadata": {},
   "outputs": [],
   "source": [
    "#define the state\n",
    "states = chord_list\n",
    "n_states = len(states)\n",
    "\n",
    "#define observation\n",
    "observations_variable = pitch_names\n",
    "n_observations = len(observations_variable)\n",
    "\n",
    "#declare start probability\n",
    "#each state has the same probability and sum to 1\n",
    "start_probability = np.full(n_states, 1/n_states)\n",
    "\n",
    "transition_probability = transition_matrix\n",
    "\n",
    "emission_probability = emission_matrix\n",
    "\n"
   ]
  },
  {
   "cell_type": "code",
   "execution_count": 17,
   "metadata": {},
   "outputs": [],
   "source": [
    "\n",
    "def midi_note_to_pitch(midi_note) -> str:\n",
    "    \"\"\"\n",
    "    Convert midi note to pitch\n",
    "    param midi_note: int\n",
    "    return: str\n",
    "    \"\"\"\n",
    "\n",
    "    # Equal temperament\n",
    "    pitch_names = ['C', 'C#', 'D', 'D#', 'E', 'F', 'F#', 'G', 'G#', 'A', 'A#', 'B']\n",
    "    octave = (midi_note - 12) // 12 + 1\n",
    "    pitch_class = midi_note % 12\n",
    "    pitch_name = pitch_names[pitch_class]\n",
    "    return f'{pitch_name}'\n",
    "#read midi file\n",
    "import pretty_midi\n",
    "\n",
    "mid= pretty_midi.PrettyMIDI('midi_output.mid')\n",
    "mid.instruments[0].notes\n",
    "list_note = []\n",
    "\n",
    "for i in mid.instruments[0].notes:\n",
    "    # print(i.start, i.end , midi_note_to_pitch(i.pitch) )\n",
    "    note = midi_note_to_pitch(i.pitch)\n",
    "    list_note.append(pitch_names.index(note))\n",
    "\n",
    "\n",
    "#create 2d np array consit of set of three notes\n",
    "list_note = np.array(list_note)\n",
    "\n",
    "#if the length of list_note is not divisible by 3, remove the last element\n",
    "if len(list_note)%4 != 0: \n",
    "    list_note = list_note[:len(list_note)-1]\n",
    "\n",
    "list_note = list_note.reshape(-1,4)\n",
    "\n",
    "\n"
   ]
  },
  {
   "cell_type": "code",
   "execution_count": 18,
   "metadata": {},
   "outputs": [],
   "source": [
    "#assemble mutinomialHMM model\n",
    "model = hmm.CategoricalHMM(n_components=n_states,n_iter=1000 )\n",
    "model.startprob_ = start_probability\n",
    "model.transmat_ = transition_probability\n",
    "model.emissionprob_ = emission_probability"
   ]
  },
  {
   "cell_type": "code",
   "execution_count": 19,
   "metadata": {},
   "outputs": [
    {
     "name": "stdout",
     "output_type": "stream",
     "text": [
      "{0.0} <music21.metadata.Metadata object at 0x2164dc629a0>\n",
      "{0.0} <music21.stream.Part 0x2164dc62370>\n",
      "    {0.0} <music21.stream.Measure 1 offset=0.0>\n",
      "        {0.0} <music21.instrument.ElectricPiano 'Electric Piano'>\n",
      "        {0.0} <music21.clef.BassClef>\n",
      "        {0.0} <music21.tempo.MetronomeMark animato Quarter=120.0>\n",
      "        {0.0} <music21.meter.TimeSignature 4/4>\n",
      "        {0.0} <music21.note.Rest 1.25ql>\n",
      "        {1.25} <music21.note.Note C>\n",
      "        {2.0} <music21.note.Note C>\n",
      "        {2.3333} <music21.note.Note C>\n",
      "        {2.5833} <music21.note.Rest 1/6ql>\n",
      "        {2.75} <music21.note.Note C>\n",
      "        {3.5} <music21.note.Note C>\n",
      "    {4.0} <music21.stream.Measure 2 offset=4.0>\n",
      "        {0.0} <music21.note.Note C>\n",
      "        {0.5} <music21.note.Note A>\n",
      "        {0.75} <music21.note.Rest 16th>\n",
      "        {1.0} <music21.note.Note A>\n",
      "        {1.75} <music21.note.Rest 1.25ql>\n",
      "        {3.0} <music21.note.Note G>\n",
      "        {3.3333} <music21.note.Note G>\n",
      "        {3.75} <music21.note.Note G>\n",
      "    {8.0} <music21.stream.Measure 3 offset=8.0>\n",
      "        {0.0} <music21.note.Note G>\n",
      "        {0.25} <music21.note.Rest 16th>\n",
      "        {0.5} <music21.note.Note F#>\n",
      "        {1.1667} <music21.note.Rest eighth>\n",
      "        {1.6667} <music21.note.Note C>\n",
      "        {2.9167} <music21.note.Rest 1/12ql>\n",
      "        {3.0} <music21.note.Note A>\n",
      "        {3.25} <music21.note.Note A>\n",
      "        {3.9167} <music21.note.Rest 1/12ql>\n",
      "    {12.0} <music21.stream.Measure 4 offset=12.0>\n",
      "        {0.0} <music21.note.Rest dotted-eighth>\n",
      "        {0.75} <music21.note.Note B->\n",
      "        {1.0} <music21.note.Rest 16th>\n",
      "        {1.25} <music21.note.Note C>\n",
      "        {1.5833} <music21.note.Rest 1/12ql>\n",
      "        {1.6667} <music21.note.Note C>\n",
      "        {2.3333} <music21.note.Note C>\n",
      "        {2.8333} <music21.note.Rest 1/6ql>\n",
      "        {3.0} <music21.note.Note C>\n",
      "        {3.3333} <music21.note.Note C>\n",
      "        {3.8333} <music21.note.Rest 1/6ql>\n",
      "    {16.0} <music21.stream.Measure 5 offset=16.0>\n",
      "        {0.0} <music21.note.Note C>\n",
      "        {0.25} <music21.note.Note C>\n",
      "        {0.5} <music21.note.Note C>\n",
      "        {1.0} <music21.note.Note A>\n",
      "        {2.0} <music21.note.Rest 5/3ql>\n",
      "        {3.6667} <music21.note.Note G>\n",
      "    {20.0} <music21.stream.Measure 6 offset=20.0>\n",
      "        {0.0} <music21.note.Note G>\n",
      "        {0.3333} <music21.note.Note A>\n",
      "        {0.8333} <music21.note.Rest 5/12ql>\n",
      "        {1.25} <music21.note.Note E->\n",
      "        {1.6667} <music21.note.Note C#>\n",
      "        {2.0} <music21.note.Note D>\n",
      "        {2.3333} <music21.note.Note C>\n",
      "        {2.5} <music21.note.Note C>\n",
      "        {3.0} <music21.note.Note C>\n",
      "        {3.75} <music21.note.Rest 16th>\n",
      "        {4.0} <music21.bar.Barline type=final>\n"
     ]
    },
    {
     "name": "stderr",
     "output_type": "stream",
     "text": [
      "C:\\Users\\Hsieh\\AppData\\Local\\Temp\\ipykernel_21864\\3578208893.py:22: VisibleDeprecationWarning: Creating an ndarray from ragged nested sequences (which is a list-or-tuple of lists-or-tuples-or ndarrays with different lengths or shapes) is deprecated. If you meant to do this, you must specify 'dtype=object' when creating the ndarray.\n",
      "  measure_list = np.array(measure_list)\n"
     ]
    },
    {
     "data": {
      "text/plain": [
       "array([array([0, 0, 0, 0, 0]), array([0, 9, 9, 7, 7, 7]),\n",
       "       array([7, 6, 0, 9, 9]), array([10,  0,  0,  0,  0,  0]),\n",
       "       array([0, 0, 0, 9, 7]), array([7, 9, 3, 1, 2, 0, 0, 0])],\n",
       "      dtype=object)"
      ]
     },
     "execution_count": 19,
     "metadata": {},
     "output_type": "execute_result"
    }
   ],
   "source": [
    "from music21 import converter, tempo\n",
    "\n",
    "midi_file = 'midi_output.mid'\n",
    "score = converter.parse(midi_file)\n",
    "\n",
    "bpm = score.flat.getElementsByClass(tempo.MetronomeMark)[0].number\n",
    "measure_list = []\n",
    "measure_time_list = []\n",
    "part = score.parts[0]\n",
    "for measure in part.getElementsByClass(\"Measure\"):\n",
    "    \n",
    "    list_note = []\n",
    "    measure_time_list.append(measure.seconds)\n",
    "    for note in measure.notes:\n",
    "        note_name = note.pitch.midi\n",
    "        list_note.append(pitch_names.index(midi_note_to_pitch(note_name)))\n",
    "    \n",
    "    #convet to numpy array\n",
    "    list_note = np.array(list_note)\n",
    "    measure_list.append(list_note)    \n",
    "#convert to numpy array\n",
    "measure_list = np.array(measure_list)\n",
    "observations_sequence = measure_list\n",
    "\n",
    "score.show('text')\n",
    "measure_list"
   ]
  },
  {
   "cell_type": "code",
   "execution_count": 22,
   "metadata": {},
   "outputs": [
    {
     "name": "stdout",
     "output_type": "stream",
     "text": [
      "[ 94 100  48  93  29  75]\n"
     ]
    }
   ],
   "source": [
    "note_list = []\n",
    "for i in range(len(measure_list)):\n",
    "   \n",
    "    note_list.append(np.bincount(measure_list[i]).argmax())\n",
    "seen = np.array([note_list]).T\n",
    "song_chord_list= model.predict(seen)\n"
   ]
  },
  {
   "cell_type": "code",
   "execution_count": 21,
   "metadata": {},
   "outputs": [
    {
     "ename": "AttributeError",
     "evalue": "'numpy.int64' object has no attribute 'split'",
     "output_type": "error",
     "traceback": [
      "\u001b[1;31m---------------------------------------------------------------------------\u001b[0m",
      "\u001b[1;31mAttributeError\u001b[0m                            Traceback (most recent call last)",
      "Cell \u001b[1;32mIn[21], line 29\u001b[0m\n\u001b[0;32m     24\u001b[0m     \u001b[39mreturn\u001b[39;00m chord_name \u001b[39m+\u001b[39m chord_type\n\u001b[0;32m     27\u001b[0m \u001b[39mfor\u001b[39;00m i \u001b[39min\u001b[39;00m song_chord_list:\n\u001b[1;32m---> 29\u001b[0m     c \u001b[39m=\u001b[39m Chord(convert_to_note_name(i))\n\u001b[0;32m     30\u001b[0m     chord_list\u001b[39m.\u001b[39mappend( c\u001b[39m.\u001b[39mcomponents())\n\u001b[0;32m     31\u001b[0m chord_list\n",
      "Cell \u001b[1;32mIn[21], line 9\u001b[0m, in \u001b[0;36mconvert_to_note_name\u001b[1;34m(chord_str)\u001b[0m\n\u001b[0;32m      4\u001b[0m \u001b[39mdef\u001b[39;00m \u001b[39mconvert_to_note_name\u001b[39m(chord_str) \u001b[39m-\u001b[39m\u001b[39m>\u001b[39m \u001b[39mstr\u001b[39m:\n\u001b[0;32m      5\u001b[0m \u001b[39m    \u001b[39m\u001b[39m\"\"\"\u001b[39;00m\n\u001b[0;32m      6\u001b[0m \u001b[39m    :param chord_name: str\u001b[39;00m\n\u001b[0;32m      7\u001b[0m \u001b[39m    :return: str\u001b[39;00m\n\u001b[0;32m      8\u001b[0m \u001b[39m    \"\"\"\u001b[39;00m\n\u001b[1;32m----> 9\u001b[0m     chord_parts \u001b[39m=\u001b[39m chord_str\u001b[39m.\u001b[39;49msplit(\u001b[39m'\u001b[39m\u001b[39m:\u001b[39m\u001b[39m'\u001b[39m)\n\u001b[0;32m     10\u001b[0m     chord_name \u001b[39m=\u001b[39m chord_parts[\u001b[39m0\u001b[39m]  \n\u001b[0;32m     11\u001b[0m     chord_type \u001b[39m=\u001b[39m chord_parts[\u001b[39m1\u001b[39m] \n",
      "\u001b[1;31mAttributeError\u001b[0m: 'numpy.int64' object has no attribute 'split'"
     ]
    }
   ],
   "source": [
    "\n",
    "from pychord import Chord\n",
    "\n",
    "chord_list = []\n",
    "def convert_to_note_name(chord_str) -> str:\n",
    "    \"\"\"\n",
    "    :param chord_name: str\n",
    "    :return: str\n",
    "    \"\"\"\n",
    "    chord_parts = chord_str.split(':')\n",
    "    chord_name = chord_parts[0]  \n",
    "    chord_type = chord_parts[1] \n",
    "\n",
    "    if 'min' in chord_type:\n",
    "        #replace min with m\n",
    "        chord_type = chord_type.replace('min', 'm')\n",
    "\n",
    "    #if last character is 6\n",
    "    if chord_type[-1] == '6':\n",
    "        chord_type = chord_type.replace('6', '')\n",
    "    #if last character is not num\n",
    "    if chord_type[-1].isdigit() == False:\n",
    "        if \"maj\" in chord_type:\n",
    "            chord_type = chord_type.replace('maj', '')\n",
    "    return chord_name + chord_type\n",
    "\n",
    "\n",
    "for i in song_chord_list:\n",
    "   \n",
    "    c = Chord(convert_to_note_name(states[i]))\n",
    "    chord_list.append( c.components())\n",
    "chord_list\n"
   ]
  },
  {
   "cell_type": "code",
   "execution_count": null,
   "metadata": {},
   "outputs": [],
   "source": [
    "from music21 import stream, chord, instrument, tempo, duration\n",
    "\n",
    "def chords_to_midi(chords, file_name):\n",
    "    # Create a stream object\n",
    "    stream1 = stream.Stream()\n",
    "\n",
    "    # Create an instrument\n",
    "    piano = instrument.Piano()\n",
    "\n",
    "    # Add the instrument to the stream\n",
    "    stream1.append(piano)\n",
    "\n",
    "    # Set the duration for each chord\n",
    "    duration_obj = duration.Duration('whole')\n",
    "\n",
    "    # Create chord objects and add them to the stream\n",
    "    for chord_notes in chords:\n",
    "        chord_obj = chord.Chord(chord_notes, duration=duration_obj)\n",
    "        stream1.append(chord_obj)\n",
    "\n",
    "    # Write the stream to a MIDI file\n",
    "    midi_file_path = file_name + '.mid'\n",
    "    stream1.write('midi', fp=midi_file_path)\n",
    "\n",
    "# Test the code\n",
    "chords = chord_list\n",
    "file_name = 'chords_output'\n",
    "\n",
    "chords_to_midi(chords, file_name)\n"
   ]
  },
  {
   "cell_type": "code",
   "execution_count": null,
   "metadata": {},
   "outputs": [],
   "source": []
  }
 ],
 "metadata": {
  "kernelspec": {
   "display_name": "venv",
   "language": "python",
   "name": "python3"
  },
  "language_info": {
   "codemirror_mode": {
    "name": "ipython",
    "version": 3
   },
   "file_extension": ".py",
   "mimetype": "text/x-python",
   "name": "python",
   "nbconvert_exporter": "python",
   "pygments_lexer": "ipython3",
   "version": "3.9.13"
  },
  "orig_nbformat": 4
 },
 "nbformat": 4,
 "nbformat_minor": 2
}
